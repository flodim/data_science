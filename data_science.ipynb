{
 "cells": [
  {
   "cell_type": "markdown",
   "metadata": {},
   "source": [
    "# Data science"
   ]
  },
  {
   "cell_type": "markdown",
   "metadata": {},
   "source": [
    "## Titanic"
   ]
  },
  {
   "cell_type": "markdown",
   "metadata": {},
   "source": [
    "### Setup"
   ]
  },
  {
   "cell_type": "code",
   "execution_count": null,
   "metadata": {},
   "outputs": [],
   "source": [
    "import numpy as np\n",
    "import matplotlib.pyplot as plt\n",
    "from matplotlib.colors import LogNorm\n",
    "\n",
    "%matplotlib inline"
   ]
  },
  {
   "cell_type": "markdown",
   "metadata": {},
   "source": [
    "### Import data from CSV"
   ]
  },
  {
   "cell_type": "code",
   "execution_count": null,
   "metadata": {},
   "outputs": [],
   "source": [
    "titanic_data = np.genfromtxt('titanic.dat', delimiter=',', skip_header=1)\n",
    "\n",
    "classes = titanic_data[:, 0]\n",
    "ages = titanic_data[:, 1]\n",
    "sexes = titanic_data[:, 2]\n",
    "survived = titanic_data[:, 3]"
   ]
  },
  {
   "cell_type": "markdown",
   "metadata": {},
   "source": [
    "### Class vs Age vs Sex"
   ]
  },
  {
   "cell_type": "code",
   "execution_count": null,
   "metadata": {},
   "outputs": [],
   "source": [
    "from mpl_toolkits.mplot3d import Axes3D\n",
    "\n",
    "fig_3d = plt.figure()\n",
    "ax = Axes3D(fig_3d)\n",
    "ax.set_xlabel('class')\n",
    "ax.set_ylabel('age')\n",
    "ax.set_zlabel('sex')\n",
    "ax.set_title('class vs age vs sex')\n",
    "_ = ax.scatter(classes, ages, sexes)\n"
   ]
  },
  {
   "cell_type": "markdown",
   "metadata": {},
   "source": [
    "### Class vs Age"
   ]
  },
  {
   "cell_type": "code",
   "execution_count": null,
   "metadata": {},
   "outputs": [],
   "source": [
    "fig_class_age = plt.figure()\n",
    "plt.xlabel('class')\n",
    "plt.ylabel('age')\n",
    "plt.title('class vs age')\n",
    "_ = plt.hist2d(classes, ages, norm=LogNorm(), bins=(4, 2))\n",
    "_ = plt.colorbar()"
   ]
  },
  {
   "cell_type": "markdown",
   "metadata": {},
   "source": [
    "### Class vs Sex"
   ]
  },
  {
   "cell_type": "code",
   "execution_count": null,
   "metadata": {},
   "outputs": [],
   "source": [
    "fig_class_sex = plt.figure(3)\n",
    "plt.xlabel('class')\n",
    "plt.ylabel('sex')\n",
    "plt.title('class vs sex')\n",
    "_ = plt.hist2d(classes, sexes, norm=LogNorm())\n",
    "_ = plt.colorbar()"
   ]
  },
  {
   "cell_type": "markdown",
   "metadata": {},
   "source": [
    "### Age vs Sex"
   ]
  },
  {
   "cell_type": "code",
   "execution_count": null,
   "metadata": {},
   "outputs": [],
   "source": [
    "\n",
    "\n",
    "fig_age_sex = plt.figure(4)\n",
    "plt.xlabel('age')\n",
    "plt.ylabel('sex')\n",
    "plt.title('age vs sex')\n",
    "_ = plt.hist2d(ages, sexes, norm=LogNorm(), bins=(2, 2))\n",
    "_ = plt.colorbar()"
   ]
  },
  {
   "cell_type": "markdown",
   "metadata": {},
   "source": [
    "### Recherche de K optimal"
   ]
  },
  {
   "cell_type": "code",
   "execution_count": null,
   "metadata": {},
   "outputs": [],
   "source": [
    "from scipy.spatial import distance\n",
    "from sklearn.cluster import KMeans\n",
    "\n",
    "K = list(range(1, 30))\n",
    "mean_dists = []\n",
    "for k in K:\n",
    "    kmeans = KMeans(n_clusters=k, random_state=0)\n",
    "    kmeans.fit(titanic_data)\n",
    "    \n",
    "    dists = []\n",
    "    for i, label in enumerate(kmeans.labels_):\n",
    "        row = titanic_data[i]\n",
    "        cluster_center = kmeans.cluster_centers_[label]\n",
    "        dist = distance.euclidean(row, cluster_center)\n",
    "        dists.append(dist)\n",
    "    \n",
    "    mean_dist = np.mean(dists)\n",
    "    mean_dists.append(mean_dist)\n",
    "\n",
    "_ = plt.plot(K, mean_dists)\n"
   ]
  }
 ],
 "metadata": {
  "kernelspec": {
   "display_name": "Python 3",
   "language": "python",
   "name": "python3"
  },
  "language_info": {
   "codemirror_mode": {
    "name": "ipython",
    "version": 3
   },
   "file_extension": ".py",
   "mimetype": "text/x-python",
   "name": "python",
   "nbconvert_exporter": "python",
   "pygments_lexer": "ipython3",
   "version": "3.5.4"
  }
 },
 "nbformat": 4,
 "nbformat_minor": 1
}
